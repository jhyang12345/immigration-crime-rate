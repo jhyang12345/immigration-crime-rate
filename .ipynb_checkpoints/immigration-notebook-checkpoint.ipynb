{
 "cells": [
  {
   "cell_type": "markdown",
   "metadata": {},
   "source": [
    "2016  \n",
    "10678000 immigrants  \n",
    "39250000 total population  \n",
    "immigrant share 27.2  \n",
    "2010  \n",
    "10150000 immigrants  \n",
    "37349000  \n",
    "immigrant share 27.2  \n",
    "2000  \n",
    "8864000 immigrants  \n",
    "33872000 total population  \n",
    "immigrant share 26.2    \n",
    "\n",
    "  \n",
    "Minnesota  \n",
    "2016  \n",
    "452000 immigrants  \n",
    "5520000  \n",
    "immigrant share 8.2  \n",
    "2010  \n",
    "378000 immigrants   \n",
    "5311000  \n",
    "immigrant share 7.1  \n",
    "2010  \n",
    "260000 immigrants  \n",
    "4919000  \n",
    "immigrant share 5.3  "
   ]
  },
  {
   "cell_type": "markdown",
   "metadata": {},
   "source": [
    "Violent crime and Property crime  \n",
    "Total count, Rate per 100,000  \n",
    "D E  \n",
    "\n",
    "Property Crime  \n",
    "Total count, Rate per 100,000  \n",
    "P Q  \n"
   ]
  },
  {
   "cell_type": "markdown",
   "metadata": {},
   "source": [
    "174796\n",
    "445.3\n",
    "\n",
    "1002070\n",
    "2553.0\n",
    "CA\n",
    "\n",
    "13394\n",
    "242.6\n",
    "\n",
    "117756\n",
    "2133.3\n",
    "Minnesota\n",
    "\n",
    "2016"
   ]
  },
  {
   "cell_type": "markdown",
   "metadata": {},
   "source": [
    "164133 440.6  \n",
    "981939 2635.8\n",
    "CA  \n",
    "\n",
    "\n",
    "12515 236.  \n",
    "136431 2572.3  \n",
    "Minnesota\n",
    "2010\n"
   ]
  },
  {
   "cell_type": "markdown",
   "metadata": {},
   "source": [
    "210531 621.6  \n",
    "1056183 3118.2  CA  \n",
    "\n",
    "\n",
    "13813 280.8  \n",
    "157798 3207.6  \n",
    "Minnesota  \n",
    "**2000**"
   ]
  },
  {
   "cell_type": "markdown",
   "metadata": {},
   "source": [
    "## Immigrant ratio and crime relationship study\n",
    "**comparing the yearly statistics(2000, 2010, 2016) of two states (Minnesota, CA)**  "
   ]
  },
  {
   "cell_type": "code",
   "execution_count": 3,
   "metadata": {},
   "outputs": [],
   "source": [
    "years = [2000, 2010, 2016]\n",
    "year_data = {year:{\"california\":{}, \"minnesota\":{}} for year in years}"
   ]
  },
  {
   "cell_type": "code",
   "execution_count": 8,
   "metadata": {},
   "outputs": [],
   "source": [
    "california_data = {_:{} for _ in years}\n",
    "minnesota_data = {_:{} for _ in years}\n",
    "# years go in ascending order\n",
    "# {\n",
    "#     \"immigrants\": ,\n",
    "#     \"total_population\": ,\n",
    "#     \"immigrant_share\": ,\n",
    "#     \"violent_crime\": ,\n",
    "#     \"violent_crime_rate\": ,\n",
    "#     \"property_crime\": ,\n",
    "#     \"property_crime_rate\": ,\n",
    "# }\n",
    "california_data[2000] = {\n",
    "    \"immigrants\": 8864000,\n",
    "    \"total_population\": 33872000,\n",
    "    \"immigrant_share\": 26.2,\n",
    "    \"violent_crime\": 210531,\n",
    "    \"violent_crime_rate\": 621.6,\n",
    "    \"property_crime\": 1056183,\n",
    "    \"property_crime_rate\":  3118.2,\n",
    "}\n",
    "california_data[2010] = {\n",
    "    \"immigrants\": 10150000,\n",
    "    \"total_population\": 37349000,\n",
    "    \"immigrant_share\": 27.2,\n",
    "    \"violent_crime\": 164133,\n",
    "    \"violent_crime_rate\": 440.6,\n",
    "    \"property_crime\": 981939,\n",
    "    \"property_crime_rate\": 2635.8,\n",
    "}\n",
    "california_data[2016] = {\n",
    "    \"immigrants\": 10678000,\n",
    "    \"total_population\": 39250000,\n",
    "    \"immigrant_share\": 27.2,\n",
    "    \"violent_crime\": 174796,\n",
    "    \"violent_crime_rate\": 445.3,\n",
    "    \"property_crime\": 1002070,\n",
    "    \"property_crime_rate\": 2553.0,\n",
    "}\n",
    "minnesota_data[2000] = {\n",
    "    \"immigrants\": 260000,\n",
    "    \"total_population\": 4919000,\n",
    "    \"immigrant_share\": 5.3,\n",
    "    \"violent_crime\": 13813,\n",
    "    \"violent_crime_rate\": 280.8,\n",
    "    \"property_crime\": 157798,\n",
    "    \"property_crime_rate\": 3207.6,\n",
    "}\n",
    "minnesota_data[2010] = {\n",
    "    \"immigrants\": 378000,\n",
    "    \"total_population\": 5311000,\n",
    "    \"immigrant_share\": 7.1,\n",
    "    \"violent_crime\": 12515,\n",
    "    \"violent_crime_rate\": 236,\n",
    "    \"property_crime\": 136431,\n",
    "    \"property_crime_rate\": 2572.3,\n",
    "}\n",
    "minnesota_data[2016] = {\n",
    "    \"immigrants\": 452000,\n",
    "    \"total_population\": 5520000,\n",
    "    \"immigrant_share\": 8.2,\n",
    "    \"violent_crime\": 13394,\n",
    "    \"violent_crime_rate\": 242.6,\n",
    "    \"property_crime\": 117756,\n",
    "    \"property_crime_rate\": 2133.3,\n",
    "}"
   ]
  },
  {
   "cell_type": "code",
   "execution_count": 26,
   "metadata": {
    "scrolled": true
   },
   "outputs": [],
   "source": [
    "import pandas as pd\n",
    "\n",
    "ca_df = pd.DataFrame.from_dict(california_data, orient='index')"
   ]
  },
  {
   "cell_type": "code",
   "execution_count": 30,
   "metadata": {},
   "outputs": [
    {
     "data": {
      "text/html": [
       "<div>\n",
       "<style scoped>\n",
       "    .dataframe tbody tr th:only-of-type {\n",
       "        vertical-align: middle;\n",
       "    }\n",
       "\n",
       "    .dataframe tbody tr th {\n",
       "        vertical-align: top;\n",
       "    }\n",
       "\n",
       "    .dataframe thead th {\n",
       "        text-align: right;\n",
       "    }\n",
       "</style>\n",
       "<table border=\"1\" class=\"dataframe\">\n",
       "  <thead>\n",
       "    <tr style=\"text-align: right;\">\n",
       "      <th></th>\n",
       "      <th>total_population</th>\n",
       "      <th>violent_crime_rate</th>\n",
       "      <th>property_crime</th>\n",
       "      <th>immigrants</th>\n",
       "      <th>property_crime_rate</th>\n",
       "      <th>violent_crime</th>\n",
       "      <th>immigrant_share</th>\n",
       "    </tr>\n",
       "  </thead>\n",
       "  <tbody>\n",
       "    <tr>\n",
       "      <th>2000</th>\n",
       "      <td>4919000</td>\n",
       "      <td>280.8</td>\n",
       "      <td>157798</td>\n",
       "      <td>260000</td>\n",
       "      <td>3207.6</td>\n",
       "      <td>13813</td>\n",
       "      <td>5.3</td>\n",
       "    </tr>\n",
       "    <tr>\n",
       "      <th>2010</th>\n",
       "      <td>5311000</td>\n",
       "      <td>236.0</td>\n",
       "      <td>136431</td>\n",
       "      <td>378000</td>\n",
       "      <td>2572.3</td>\n",
       "      <td>12515</td>\n",
       "      <td>7.1</td>\n",
       "    </tr>\n",
       "    <tr>\n",
       "      <th>2016</th>\n",
       "      <td>5520000</td>\n",
       "      <td>242.6</td>\n",
       "      <td>117756</td>\n",
       "      <td>452000</td>\n",
       "      <td>2133.3</td>\n",
       "      <td>13394</td>\n",
       "      <td>8.2</td>\n",
       "    </tr>\n",
       "  </tbody>\n",
       "</table>\n",
       "</div>"
      ],
      "text/plain": [
       "      total_population  violent_crime_rate  property_crime  immigrants  \\\n",
       "2000           4919000               280.8          157798      260000   \n",
       "2010           5311000               236.0          136431      378000   \n",
       "2016           5520000               242.6          117756      452000   \n",
       "\n",
       "      property_crime_rate  violent_crime  immigrant_share  \n",
       "2000               3207.6          13813              5.3  \n",
       "2010               2572.3          12515              7.1  \n",
       "2016               2133.3          13394              8.2  "
      ]
     },
     "execution_count": 30,
     "metadata": {},
     "output_type": "execute_result"
    }
   ],
   "source": [
    "mi_df = pd.DataFrame.from_dict(minnesota_data, orient='index')\n",
    "mi_df"
   ]
  },
  {
   "cell_type": "code",
   "execution_count": 41,
   "metadata": {
    "scrolled": false
   },
   "outputs": [
    {
     "name": "stdout",
     "output_type": "stream",
     "text": [
      "[2000, 2010, 2016] [33872000, 37349000, 39250000]\n"
     ]
    },
    {
     "ename": "TypeError",
     "evalue": "<lambda>() missing 1 required positional argument: 'height'",
     "output_type": "error",
     "traceback": [
      "\u001b[1;31m---------------------------------------------------------------------------\u001b[0m",
      "\u001b[1;31mTypeError\u001b[0m                                 Traceback (most recent call last)",
      "\u001b[1;32m<ipython-input-41-bebfa69107c6>\u001b[0m in \u001b[0;36m<module>\u001b[1;34m()\u001b[0m\n\u001b[0;32m      7\u001b[0m     \u001b[0mprint\u001b[0m\u001b[1;33m(\u001b[0m\u001b[0mx_values\u001b[0m\u001b[1;33m,\u001b[0m \u001b[0my_values\u001b[0m\u001b[1;33m)\u001b[0m\u001b[1;33m\u001b[0m\u001b[0m\n\u001b[0;32m      8\u001b[0m     \u001b[0mplt\u001b[0m\u001b[1;33m.\u001b[0m\u001b[0mplot\u001b[0m\u001b[1;33m(\u001b[0m\u001b[0mx_values\u001b[0m\u001b[1;33m,\u001b[0m \u001b[0my_values\u001b[0m\u001b[1;33m)\u001b[0m\u001b[1;33m\u001b[0m\u001b[0m\n\u001b[1;32m----> 9\u001b[1;33m     \u001b[0mplt\u001b[0m\u001b[1;33m.\u001b[0m\u001b[0mbar\u001b[0m\u001b[1;33m(\u001b[0m\u001b[0my_values\u001b[0m\u001b[1;33m)\u001b[0m\u001b[1;33m\u001b[0m\u001b[0m\n\u001b[0m\u001b[0;32m     10\u001b[0m     \u001b[0mplt\u001b[0m\u001b[1;33m.\u001b[0m\u001b[0mshow\u001b[0m\u001b[1;33m(\u001b[0m\u001b[1;33m)\u001b[0m\u001b[1;33m\u001b[0m\u001b[0m\n",
      "\u001b[1;32mc:\\programdata\\anaconda3\\envs\\tensorflow\\lib\\site-packages\\matplotlib\\pyplot.py\u001b[0m in \u001b[0;36mbar\u001b[1;34m(*args, **kwargs)\u001b[0m\n\u001b[0;32m   2646\u001b[0m                       mplDeprecation)\n\u001b[0;32m   2647\u001b[0m     \u001b[1;32mtry\u001b[0m\u001b[1;33m:\u001b[0m\u001b[1;33m\u001b[0m\u001b[0m\n\u001b[1;32m-> 2648\u001b[1;33m         \u001b[0mret\u001b[0m \u001b[1;33m=\u001b[0m \u001b[0max\u001b[0m\u001b[1;33m.\u001b[0m\u001b[0mbar\u001b[0m\u001b[1;33m(\u001b[0m\u001b[1;33m*\u001b[0m\u001b[0margs\u001b[0m\u001b[1;33m,\u001b[0m \u001b[1;33m**\u001b[0m\u001b[0mkwargs\u001b[0m\u001b[1;33m)\u001b[0m\u001b[1;33m\u001b[0m\u001b[0m\n\u001b[0m\u001b[0;32m   2649\u001b[0m     \u001b[1;32mfinally\u001b[0m\u001b[1;33m:\u001b[0m\u001b[1;33m\u001b[0m\u001b[0m\n\u001b[0;32m   2650\u001b[0m         \u001b[0max\u001b[0m\u001b[1;33m.\u001b[0m\u001b[0m_hold\u001b[0m \u001b[1;33m=\u001b[0m \u001b[0mwashold\u001b[0m\u001b[1;33m\u001b[0m\u001b[0m\n",
      "\u001b[1;32mc:\\programdata\\anaconda3\\envs\\tensorflow\\lib\\site-packages\\matplotlib\\__init__.py\u001b[0m in \u001b[0;36minner\u001b[1;34m(ax, *args, **kwargs)\u001b[0m\n\u001b[0;32m   1715\u001b[0m                     warnings.warn(msg % (label_namer, func.__name__),\n\u001b[0;32m   1716\u001b[0m                                   RuntimeWarning, stacklevel=2)\n\u001b[1;32m-> 1717\u001b[1;33m             \u001b[1;32mreturn\u001b[0m \u001b[0mfunc\u001b[0m\u001b[1;33m(\u001b[0m\u001b[0max\u001b[0m\u001b[1;33m,\u001b[0m \u001b[1;33m*\u001b[0m\u001b[0margs\u001b[0m\u001b[1;33m,\u001b[0m \u001b[1;33m**\u001b[0m\u001b[0mkwargs\u001b[0m\u001b[1;33m)\u001b[0m\u001b[1;33m\u001b[0m\u001b[0m\n\u001b[0m\u001b[0;32m   1718\u001b[0m         \u001b[0mpre_doc\u001b[0m \u001b[1;33m=\u001b[0m \u001b[0minner\u001b[0m\u001b[1;33m.\u001b[0m\u001b[0m__doc__\u001b[0m\u001b[1;33m\u001b[0m\u001b[0m\n\u001b[0;32m   1719\u001b[0m         \u001b[1;32mif\u001b[0m \u001b[0mpre_doc\u001b[0m \u001b[1;32mis\u001b[0m \u001b[1;32mNone\u001b[0m\u001b[1;33m:\u001b[0m\u001b[1;33m\u001b[0m\u001b[0m\n",
      "\u001b[1;32mc:\\programdata\\anaconda3\\envs\\tensorflow\\lib\\site-packages\\matplotlib\\axes\\_axes.py\u001b[0m in \u001b[0;36mbar\u001b[1;34m(self, *args, **kwargs)\u001b[0m\n\u001b[0;32m   1961\u001b[0m                 \u001b[1;32mbreak\u001b[0m\u001b[1;33m\u001b[0m\u001b[0m\n\u001b[0;32m   1962\u001b[0m         \u001b[1;32melse\u001b[0m\u001b[1;33m:\u001b[0m\u001b[1;33m\u001b[0m\u001b[0m\n\u001b[1;32m-> 1963\u001b[1;33m             \u001b[1;32mraise\u001b[0m \u001b[0mexps\u001b[0m\u001b[1;33m[\u001b[0m\u001b[1;36m0\u001b[0m\u001b[1;33m]\u001b[0m\u001b[1;33m\u001b[0m\u001b[0m\n\u001b[0m\u001b[0;32m   1964\u001b[0m         \u001b[1;31m# if we matched the second-case, then the user passed in\u001b[0m\u001b[1;33m\u001b[0m\u001b[1;33m\u001b[0m\u001b[0m\n\u001b[0;32m   1965\u001b[0m         \u001b[1;31m# left=val as a kwarg which we want to deprecate\u001b[0m\u001b[1;33m\u001b[0m\u001b[1;33m\u001b[0m\u001b[0m\n",
      "\u001b[1;32mc:\\programdata\\anaconda3\\envs\\tensorflow\\lib\\site-packages\\matplotlib\\axes\\_axes.py\u001b[0m in \u001b[0;36mbar\u001b[1;34m(self, *args, **kwargs)\u001b[0m\n\u001b[0;32m   1953\u001b[0m         \u001b[1;32mfor\u001b[0m \u001b[0mmatcher\u001b[0m \u001b[1;32min\u001b[0m \u001b[0mmatchers\u001b[0m\u001b[1;33m:\u001b[0m\u001b[1;33m\u001b[0m\u001b[0m\n\u001b[0;32m   1954\u001b[0m             \u001b[1;32mtry\u001b[0m\u001b[1;33m:\u001b[0m\u001b[1;33m\u001b[0m\u001b[0m\n\u001b[1;32m-> 1955\u001b[1;33m                 \u001b[0mdp\u001b[0m\u001b[1;33m,\u001b[0m \u001b[0mx\u001b[0m\u001b[1;33m,\u001b[0m \u001b[0mheight\u001b[0m\u001b[1;33m,\u001b[0m \u001b[0mwidth\u001b[0m\u001b[1;33m,\u001b[0m \u001b[0my\u001b[0m\u001b[1;33m,\u001b[0m \u001b[0mkwargs\u001b[0m \u001b[1;33m=\u001b[0m \u001b[0mmatcher\u001b[0m\u001b[1;33m(\u001b[0m\u001b[1;33m*\u001b[0m\u001b[0margs\u001b[0m\u001b[1;33m,\u001b[0m \u001b[1;33m**\u001b[0m\u001b[0mkwargs\u001b[0m\u001b[1;33m)\u001b[0m\u001b[1;33m\u001b[0m\u001b[0m\n\u001b[0m\u001b[0;32m   1956\u001b[0m             \u001b[1;32mexcept\u001b[0m \u001b[0mTypeError\u001b[0m \u001b[1;32mas\u001b[0m \u001b[0me\u001b[0m\u001b[1;33m:\u001b[0m\u001b[1;33m\u001b[0m\u001b[0m\n\u001b[0;32m   1957\u001b[0m                 \u001b[1;31m# This can only come from a no-match as there is\u001b[0m\u001b[1;33m\u001b[0m\u001b[1;33m\u001b[0m\u001b[0m\n",
      "\u001b[1;31mTypeError\u001b[0m: <lambda>() missing 1 required positional argument: 'height'"
     ]
    },
    {
     "data": {
      "image/png": "[encoded data removed]",
      "text/plain": [
       "<matplotlib.figure.Figure at 0x1a8c8d85d68>"
      ]
     },
     "metadata": {},
     "output_type": "display_data"
    }
   ],
   "source": [
    "import matplotlib.pyplot as plt\n",
    "%matplotlib inline\n",
    "\n",
    "for col in ca_df.columns:\n",
    "    x_values = list(ca_df.index)\n",
    "    y_values = list(ca_df[col])\n",
    "    print(x_values, y_values)\n",
    "    plt.bar(y_values)\n",
    "    plt.show()"
   ]
  }
 ],
 "metadata": {
  "kernelspec": {
   "display_name": "Python 3",
   "language": "python",
   "name": "python3"
  },
  "language_info": {
   "codemirror_mode": {
    "name": "ipython",
    "version": 3
   },
   "file_extension": ".py",
   "mimetype": "text/x-python",
   "name": "python",
   "nbconvert_exporter": "python",
   "pygments_lexer": "ipython3",
   "version": "3.5.4"
  }
 },
 "nbformat": 4,
 "nbformat_minor": 2
}
