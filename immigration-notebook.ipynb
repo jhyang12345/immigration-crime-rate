{
 "cells": [
  {
   "cell_type": "markdown",
   "metadata": {},
   "source": [
    "2016  \n",
    "10678000 immigrants  \n",
    "39250000 total population  \n",
    "immigrant share 27.2  \n",
    "2010  \n",
    "10150000 immigrants  \n",
    "37349000  \n",
    "immigrant share 27.2  \n",
    "2000  \n",
    "8864000 immigrants  \n",
    "33872000 total population  \n",
    "immigrant share 26.2    \n",
    "\n",
    "  \n",
    "Minnesota  \n",
    "2016  \n",
    "452000 immigrants  \n",
    "5520000  \n",
    "immigrant share 8.2  \n",
    "2010  \n",
    "378000 immigrants   \n",
    "5311000  \n",
    "immigrant share 7.1  \n",
    "2010  \n",
    "260000 immigrants  \n",
    "4919000  \n",
    "immigrant share 5.3  "
   ]
  },
  {
   "cell_type": "markdown",
   "metadata": {},
   "source": [
    "Violent crime and Property crime  \n",
    "Total count, Rate per 100,000  \n",
    "D E  \n",
    "\n",
    "Property Crime  \n",
    "Total count, Rate per 100,000  \n",
    "P Q  \n"
   ]
  },
  {
   "cell_type": "markdown",
   "metadata": {},
   "source": [
    "174796\n",
    "445.3\n",
    "\n",
    "1002070\n",
    "2553.0\n",
    "CA\n",
    "\n",
    "13394\n",
    "242.6\n",
    "\n",
    "117756\n",
    "2133.3\n",
    "Minnesota\n",
    "\n",
    "2016"
   ]
  },
  {
   "cell_type": "markdown",
   "metadata": {},
   "source": [
    "164133 440.6  \n",
    "981939 2635.8\n",
    "CA  \n",
    "\n",
    "\n",
    "12515 236.  \n",
    "136431 2572.3  \n",
    "Minnesota\n",
    "2010\n"
   ]
  },
  {
   "cell_type": "markdown",
   "metadata": {},
   "source": [
    "210531 621.6  \n",
    "1056183 3118.2  CA  \n",
    "\n",
    "\n",
    "13813 280.8  \n",
    "157798 3207.6  \n",
    "Minnesota  \n",
    "**2000**"
   ]
  },
  {
   "cell_type": "markdown",
   "metadata": {},
   "source": [
    "## Immigrant ratio and crime relationship study\n",
    "**comparing the yearly statistics(2000, 2010, 2016) of two states (Minnesota, CA)**  "
   ]
  },
  {
   "cell_type": "code",
   "execution_count": 3,
   "metadata": {},
   "outputs": [],
   "source": [
    "years = [2000, 2010, 2016]\n",
    "year_data = {year:{\"california\":{}, \"minnesota\":{}} for year in years}"
   ]
  },
  {
   "cell_type": "code",
   "execution_count": 8,
   "metadata": {},
   "outputs": [],
   "source": [
    "california_data = {_:{} for _ in years}\n",
    "minnesota_data = {_:{} for _ in years}\n",
    "# years go in ascending order\n",
    "# {\n",
    "#     \"immigrants\": ,\n",
    "#     \"total_population\": ,\n",
    "#     \"immigrant_share\": ,\n",
    "#     \"violent_crime\": ,\n",
    "#     \"violent_crime_rate\": ,\n",
    "#     \"property_crime\": ,\n",
    "#     \"property_crime_rate\": ,\n",
    "# }\n",
    "california_data[2000] = {\n",
    "    \"immigrants\": 8864000,\n",
    "    \"total_population\": 33872000,\n",
    "    \"immigrant_share\": 26.2,\n",
    "    \"violent_crime\": 210531,\n",
    "    \"violent_crime_rate\": 621.6,\n",
    "    \"property_crime\": 1056183,\n",
    "    \"property_crime_rate\":  3118.2,\n",
    "}\n",
    "california_data[2010] = {\n",
    "    \"immigrants\": 10150000,\n",
    "    \"total_population\": 37349000,\n",
    "    \"immigrant_share\": 27.2,\n",
    "    \"violent_crime\": 164133,\n",
    "    \"violent_crime_rate\": 440.6,\n",
    "    \"property_crime\": 981939,\n",
    "    \"property_crime_rate\": 2635.8,\n",
    "}\n",
    "california_data[2016] = {\n",
    "    \"immigrants\": 10678000,\n",
    "    \"total_population\": 39250000,\n",
    "    \"immigrant_share\": 27.2,\n",
    "    \"violent_crime\": 174796,\n",
    "    \"violent_crime_rate\": 445.3,\n",
    "    \"property_crime\": 1002070,\n",
    "    \"property_crime_rate\": 2553.0,\n",
    "}\n",
    "minnesota_data[2000] = {\n",
    "    \"immigrants\": 260000,\n",
    "    \"total_population\": 4919000,\n",
    "    \"immigrant_share\": 5.3,\n",
    "    \"violent_crime\": 13813,\n",
    "    \"violent_crime_rate\": 280.8,\n",
    "    \"property_crime\": 157798,\n",
    "    \"property_crime_rate\": 3207.6,\n",
    "}\n",
    "minnesota_data[2010] = {\n",
    "    \"immigrants\": 378000,\n",
    "    \"total_population\": 5311000,\n",
    "    \"immigrant_share\": 7.1,\n",
    "    \"violent_crime\": 12515,\n",
    "    \"violent_crime_rate\": 236,\n",
    "    \"property_crime\": 136431,\n",
    "    \"property_crime_rate\": 2572.3,\n",
    "}\n",
    "minnesota_data[2016] = {\n",
    "    \"immigrants\": 452000,\n",
    "    \"total_population\": 5520000,\n",
    "    \"immigrant_share\": 8.2,\n",
    "    \"violent_crime\": 13394,\n",
    "    \"violent_crime_rate\": 242.6,\n",
    "    \"property_crime\": 117756,\n",
    "    \"property_crime_rate\": 2133.3,\n",
    "}"
   ]
  },
  {
   "cell_type": "code",
   "execution_count": 43,
   "metadata": {
    "scrolled": true
   },
   "outputs": [
    {
     "data": {
      "text/html": [
       "<div>\n",
       "<style scoped>\n",
       "    .dataframe tbody tr th:only-of-type {\n",
       "        vertical-align: middle;\n",
       "    }\n",
       "\n",
       "    .dataframe tbody tr th {\n",
       "        vertical-align: top;\n",
       "    }\n",
       "\n",
       "    .dataframe thead th {\n",
       "        text-align: right;\n",
       "    }\n",
       "</style>\n",
       "<table border=\"1\" class=\"dataframe\">\n",
       "  <thead>\n",
       "    <tr style=\"text-align: right;\">\n",
       "      <th></th>\n",
       "      <th>total_population</th>\n",
       "      <th>violent_crime_rate</th>\n",
       "      <th>property_crime</th>\n",
       "      <th>immigrants</th>\n",
       "      <th>property_crime_rate</th>\n",
       "      <th>violent_crime</th>\n",
       "      <th>immigrant_share</th>\n",
       "    </tr>\n",
       "  </thead>\n",
       "  <tbody>\n",
       "    <tr>\n",
       "      <th>2000</th>\n",
       "      <td>33872000</td>\n",
       "      <td>621.6</td>\n",
       "      <td>1056183</td>\n",
       "      <td>8864000</td>\n",
       "      <td>3118.2</td>\n",
       "      <td>210531</td>\n",
       "      <td>26.2</td>\n",
       "    </tr>\n",
       "    <tr>\n",
       "      <th>2010</th>\n",
       "      <td>37349000</td>\n",
       "      <td>440.6</td>\n",
       "      <td>981939</td>\n",
       "      <td>10150000</td>\n",
       "      <td>2635.8</td>\n",
       "      <td>164133</td>\n",
       "      <td>27.2</td>\n",
       "    </tr>\n",
       "    <tr>\n",
       "      <th>2016</th>\n",
       "      <td>39250000</td>\n",
       "      <td>445.3</td>\n",
       "      <td>1002070</td>\n",
       "      <td>10678000</td>\n",
       "      <td>2553.0</td>\n",
       "      <td>174796</td>\n",
       "      <td>27.2</td>\n",
       "    </tr>\n",
       "  </tbody>\n",
       "</table>\n",
       "</div>"
      ],
      "text/plain": [
       "      total_population  violent_crime_rate  property_crime  immigrants  \\\n",
       "2000          33872000               621.6         1056183     8864000   \n",
       "2010          37349000               440.6          981939    10150000   \n",
       "2016          39250000               445.3         1002070    10678000   \n",
       "\n",
       "      property_crime_rate  violent_crime  immigrant_share  \n",
       "2000               3118.2         210531             26.2  \n",
       "2010               2635.8         164133             27.2  \n",
       "2016               2553.0         174796             27.2  "
      ]
     },
     "execution_count": 43,
     "metadata": {},
     "output_type": "execute_result"
    }
   ],
   "source": [
    "import pandas as pd\n",
    "\n",
    "ca_df = pd.DataFrame.from_dict(california_data, orient='index')\n",
    "ca_df"
   ]
  },
  {
   "cell_type": "code",
   "execution_count": 30,
   "metadata": {},
   "outputs": [
    {
     "data": {
      "text/html": [
       "<div>\n",
       "<style scoped>\n",
       "    .dataframe tbody tr th:only-of-type {\n",
       "        vertical-align: middle;\n",
       "    }\n",
       "\n",
       "    .dataframe tbody tr th {\n",
       "        vertical-align: top;\n",
       "    }\n",
       "\n",
       "    .dataframe thead th {\n",
       "        text-align: right;\n",
       "    }\n",
       "</style>\n",
       "<table border=\"1\" class=\"dataframe\">\n",
       "  <thead>\n",
       "    <tr style=\"text-align: right;\">\n",
       "      <th></th>\n",
       "      <th>total_population</th>\n",
       "      <th>violent_crime_rate</th>\n",
       "      <th>property_crime</th>\n",
       "      <th>immigrants</th>\n",
       "      <th>property_crime_rate</th>\n",
       "      <th>violent_crime</th>\n",
       "      <th>immigrant_share</th>\n",
       "    </tr>\n",
       "  </thead>\n",
       "  <tbody>\n",
       "    <tr>\n",
       "      <th>2000</th>\n",
       "      <td>4919000</td>\n",
       "      <td>280.8</td>\n",
       "      <td>157798</td>\n",
       "      <td>260000</td>\n",
       "      <td>3207.6</td>\n",
       "      <td>13813</td>\n",
       "      <td>5.3</td>\n",
       "    </tr>\n",
       "    <tr>\n",
       "      <th>2010</th>\n",
       "      <td>5311000</td>\n",
       "      <td>236.0</td>\n",
       "      <td>136431</td>\n",
       "      <td>378000</td>\n",
       "      <td>2572.3</td>\n",
       "      <td>12515</td>\n",
       "      <td>7.1</td>\n",
       "    </tr>\n",
       "    <tr>\n",
       "      <th>2016</th>\n",
       "      <td>5520000</td>\n",
       "      <td>242.6</td>\n",
       "      <td>117756</td>\n",
       "      <td>452000</td>\n",
       "      <td>2133.3</td>\n",
       "      <td>13394</td>\n",
       "      <td>8.2</td>\n",
       "    </tr>\n",
       "  </tbody>\n",
       "</table>\n",
       "</div>"
      ],
      "text/plain": [
       "      total_population  violent_crime_rate  property_crime  immigrants  \\\n",
       "2000           4919000               280.8          157798      260000   \n",
       "2010           5311000               236.0          136431      378000   \n",
       "2016           5520000               242.6          117756      452000   \n",
       "\n",
       "      property_crime_rate  violent_crime  immigrant_share  \n",
       "2000               3207.6          13813              5.3  \n",
       "2010               2572.3          12515              7.1  \n",
       "2016               2133.3          13394              8.2  "
      ]
     },
     "execution_count": 30,
     "metadata": {},
     "output_type": "execute_result"
    }
   ],
   "source": [
    "mi_df = pd.DataFrame.from_dict(minnesota_data, orient='index')\n",
    "mi_df"
   ]
  },
  {
   "cell_type": "code",
   "execution_count": 49,
   "metadata": {
    "scrolled": false
   },
   "outputs": [
    {
     "name": "stdout",
     "output_type": "stream",
     "text": [
      "total_population\n"
     ]
    },
    {
     "data": {
      "image/png": "[encoded data removed]",
      "text/plain": [
       "<matplotlib.figure.Figure at 0x1a8c8bf5828>"
      ]
     },
     "metadata": {},
     "output_type": "display_data"
    },
    {
     "name": "stdout",
     "output_type": "stream",
     "text": [
      "violent_crime_rate\n"
     ]
    },
    {
     "data": {
      "image/png": "[encoded data removed]",
      "text/plain": [
       "<matplotlib.figure.Figure at 0x1a8c8d8a278>"
      ]
     },
     "metadata": {},
     "output_type": "display_data"
    },
    {
     "name": "stdout",
     "output_type": "stream",
     "text": [
      "property_crime\n"
     ]
    },
    {
     "data": {
      "image/png": "[encoded data removed]",
      "text/plain": [
       "<matplotlib.figure.Figure at 0x1a8c8bf62e8>"
      ]
     },
     "metadata": {},
     "output_type": "display_data"
    },
    {
     "name": "stdout",
     "output_type": "stream",
     "text": [
      "immigrants\n"
     ]
    },
    {
     "data": {
      "image/png": "[encoded data removed]",
      "text/plain": [
       "<matplotlib.figure.Figure at 0x1a8c8e86438>"
      ]
     },
     "metadata": {},
     "output_type": "display_data"
    },
    {
     "name": "stdout",
     "output_type": "stream",
     "text": [
      "property_crime_rate\n"
     ]
    },
    {
     "data": {
      "image/png": "[encoded data removed]",
      "text/plain": [
       "<matplotlib.figure.Figure at 0x1a8c8d3a400>"
      ]
     },
     "metadata": {},
     "output_type": "display_data"
    },
    {
     "name": "stdout",
     "output_type": "stream",
     "text": [
      "violent_crime\n"
     ]
    },
    {
     "data": {
      "image/png": "[encoded data removed]",
      "text/plain": [
       "<matplotlib.figure.Figure at 0x1a8c8dd1b38>"
      ]
     },
     "metadata": {},
     "output_type": "display_data"
    },
    {
     "name": "stdout",
     "output_type": "stream",
     "text": [
      "immigrant_share\n"
     ]
    },
    {
     "data": {
      "image/png": "[encoded data removed]",
      "text/plain": [
       "<matplotlib.figure.Figure at 0x1a8c8dbb278>"
      ]
     },
     "metadata": {},
     "output_type": "display_data"
    }
   ],
   "source": [
    "import matplotlib.pyplot as plt\n",
    "%matplotlib inline\n",
    "\n",
    "for col in ca_df.columns:\n",
    "    x_values = list(map(str, list(ca_df.index)))\n",
    "    y_values = list(ca_df[col])\n",
    "    print(col)\n",
    "    plt.plot(x_values, y_values)\n",
    "    plt.show()"
   ]
  }
 ],
 "metadata": {
  "kernelspec": {
   "display_name": "Python 3",
   "language": "python",
   "name": "python3"
  },
  "language_info": {
   "codemirror_mode": {
    "name": "ipython",
    "version": 3
   },
   "file_extension": ".py",
   "mimetype": "text/x-python",
   "name": "python",
   "nbconvert_exporter": "python",
   "pygments_lexer": "ipython3",
   "version": "3.5.4"
  }
 },
 "nbformat": 4,
 "nbformat_minor": 2
}
